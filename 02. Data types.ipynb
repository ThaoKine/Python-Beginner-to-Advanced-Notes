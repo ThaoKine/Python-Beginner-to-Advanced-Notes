{
 "cells": [
  {
   "cell_type": "markdown",
   "id": "b3d5eaf1-a275-4454-b20b-b9f1899fe213",
   "metadata": {},
   "source": [
    "# 1. What is a data type?\n",
    "\n",
    "- It tells Python what **type of value** you're working with - like *is it numbers, text, or lists, or anything else?*"
   ]
  },
  {
   "cell_type": "markdown",
   "id": "594a49f8-3014-4bff-84ac-5c3029a50e93",
   "metadata": {},
   "source": [
    "## A. Basic Types \n",
    "\n",
    "*(the below is the built-in data types of Python, there will be some data types (decimal) that need to be imported from a standard libary)*\n",
    "### A.1. int -> integer"
   ]
  },
  {
   "cell_type": "code",
   "execution_count": 1,
   "id": "bf2a13f8-7fea-41d6-ba5b-be4aae06d70e",
   "metadata": {},
   "outputs": [
    {
     "data": {
      "text/plain": [
       "int"
      ]
     },
     "execution_count": 1,
     "metadata": {},
     "output_type": "execute_result"
    }
   ],
   "source": [
    "x = 10\n",
    "type (x)"
   ]
  },
  {
   "cell_type": "markdown",
   "id": "2ce46735-5275-4434-9b69-3505ad3fa884",
   "metadata": {},
   "source": [
    "### A.2. float -> decimal numbers \n",
    "\n",
    "*the **float's accuracy** is **approximate**, while the decimal data type's accuracy is exact*"
   ]
  },
  {
   "cell_type": "code",
   "execution_count": 2,
   "id": "8e0eef31-2de5-4c1b-a2d1-cc46173e7a78",
   "metadata": {},
   "outputs": [
    {
     "data": {
      "text/plain": [
       "float"
      ]
     },
     "execution_count": 2,
     "metadata": {},
     "output_type": "execute_result"
    }
   ],
   "source": [
    "age = 9999999.99999\n",
    "type (age)"
   ]
  },
  {
   "cell_type": "markdown",
   "id": "8d615475-6618-4701-a67a-f9c6c0f5adec",
   "metadata": {},
   "source": [
    "### A.3. bool -> True or False"
   ]
  },
  {
   "cell_type": "code",
   "execution_count": 4,
   "id": "b7ecd3e9-ad71-45f9-a5e5-ca0caaff285e",
   "metadata": {},
   "outputs": [
    {
     "data": {
      "text/plain": [
       "bool"
      ]
     },
     "execution_count": 4,
     "metadata": {},
     "output_type": "execute_result"
    }
   ],
   "source": [
    "fine_or_not = True\n",
    "type (fine_or_not)"
   ]
  },
  {
   "cell_type": "markdown",
   "id": "df66363c-6561-47f3-9cc2-dae651a395d2",
   "metadata": {},
   "source": [
    "### A.4. str -> text (i.e. string) "
   ]
  },
  {
   "cell_type": "code",
   "execution_count": 5,
   "id": "41940bad-5dcc-45d4-9e8a-6e44c1423673",
   "metadata": {},
   "outputs": [
    {
     "data": {
      "text/plain": [
       "str"
      ]
     },
     "execution_count": 5,
     "metadata": {},
     "output_type": "execute_result"
    }
   ],
   "source": [
    "name = 'Kine'\n",
    "\n",
    "type (name)"
   ]
  },
  {
   "cell_type": "markdown",
   "id": "10bb66c7-359c-4ea9-b735-e9cda87452e4",
   "metadata": {},
   "source": [
    "## B. Collection types\n",
    "\n",
    "### B.1. Lists -> in order but changeable"
   ]
  },
  {
   "cell_type": "code",
   "execution_count": 8,
   "id": "327cfd89-3d6a-47d4-856e-12a1b6ae5ab7",
   "metadata": {},
   "outputs": [
    {
     "data": {
      "text/plain": [
       "list"
      ]
     },
     "execution_count": 8,
     "metadata": {},
     "output_type": "execute_result"
    }
   ],
   "source": [
    "my_mbti = ['ENTJ', 'ESTJ', 'INTJ']\n",
    "\n",
    "type (my_mbti)"
   ]
  },
  {
   "cell_type": "code",
   "execution_count": 9,
   "id": "0ebcd176-0a58-41de-b4d2-190c48e86614",
   "metadata": {},
   "outputs": [
    {
     "name": "stdout",
     "output_type": "stream",
     "text": [
      "['ENTJ', 'ESTJ', 'INTJ', 'ISTJ', 'ISTJ']\n"
     ]
    }
   ],
   "source": [
    "# if you want to ADD a new value to the list\n",
    "\n",
    "my_mbti.append('ISTJ')\n",
    "print(my_mbti)\n"
   ]
  },
  {
   "cell_type": "code",
   "execution_count": 14,
   "id": "3b58dddb-7e80-4212-a25a-215e6119f9b8",
   "metadata": {},
   "outputs": [
    {
     "name": "stdout",
     "output_type": "stream",
     "text": [
      "['ENTJ', 'ESTJ', 'INTJ']\n"
     ]
    }
   ],
   "source": [
    "# if you want to REMOVE a new value to the list\n",
    "\n",
    "my_mbti.remove('ISTJ')\n",
    "print(my_mbti)"
   ]
  },
  {
   "cell_type": "code",
   "execution_count": 12,
   "id": "dce81b29-6b6f-41f9-8e71-9d2ed12e20a2",
   "metadata": {},
   "outputs": [
    {
     "name": "stdout",
     "output_type": "stream",
     "text": [
      "ENTJ\n"
     ]
    }
   ],
   "source": [
    "# if you want to PICK a value from the list, remember: \n",
    "# Index:    0        1         2\n",
    "# fruits = [\"apple\", \"banana\", \"cherry\"]\n",
    "\n",
    "ideal = my_mbti[0]\n",
    "\n",
    "print (ideal)"
   ]
  },
  {
   "cell_type": "markdown",
   "id": "ab7f8bcf-f5f3-4361-922d-d24b1119767e",
   "metadata": {},
   "source": [
    "### B.2. Tuple -> in order but UNchangeable\n",
    "\n",
    "This is different from **list**:\n",
    "you **CAN'T** add or remove values from the Tuple. Use Tuple if you're sure that the data is *not change*. Moreover, the **SYNTAX** is different too\n",
    "\n",
    "| Feature                             | `list`                                 | `tuple`                         |\n",
    "| ----------------------------------- | -------------------------------------- | ------------------------------- |\n",
    "| **Syntax**                          | `[item1, item2, item3]`                | `(item1, item2, item3)`         |\n"
   ]
  },
  {
   "cell_type": "code",
   "execution_count": 17,
   "id": "30a68ced-f56c-4094-b6b2-e53278a4ecbf",
   "metadata": {},
   "outputs": [
    {
     "data": {
      "text/plain": [
       "tuple"
      ]
     },
     "execution_count": 17,
     "metadata": {},
     "output_type": "execute_result"
    }
   ],
   "source": [
    "T = (1, 2, 3)\n",
    "type (T)"
   ]
  },
  {
   "cell_type": "code",
   "execution_count": 15,
   "id": "b358d409-6cae-47e7-97ad-42d46b10adda",
   "metadata": {},
   "outputs": [
    {
     "ename": "AttributeError",
     "evalue": "'tuple' object has no attribute 'append'",
     "output_type": "error",
     "traceback": [
      "\u001b[1;31m---------------------------------------------------------------------------\u001b[0m",
      "\u001b[1;31mAttributeError\u001b[0m                            Traceback (most recent call last)",
      "Cell \u001b[1;32mIn[15], line 3\u001b[0m\n\u001b[0;32m      1\u001b[0m \u001b[38;5;66;03m# example for the unchangeability of tuple\u001b[39;00m\n\u001b[0;32m      2\u001b[0m my_tuple \u001b[38;5;241m=\u001b[39m (\u001b[38;5;241m1\u001b[39m, \u001b[38;5;241m2\u001b[39m, \u001b[38;5;241m3\u001b[39m)\n\u001b[1;32m----> 3\u001b[0m my_tuple\u001b[38;5;241m.\u001b[39mappend(\u001b[38;5;241m4\u001b[39m)\n",
      "\u001b[1;31mAttributeError\u001b[0m: 'tuple' object has no attribute 'append'"
     ]
    }
   ],
   "source": [
    "# example for the unchangeability of tuple\n",
    "my_tuple = (1, 2, 3)\n",
    "my_tuple.append(4)"
   ]
  },
  {
   "cell_type": "code",
   "execution_count": 16,
   "id": "617e5fb2-efa3-44d5-9396-2ef1cc0af93a",
   "metadata": {},
   "outputs": [
    {
     "name": "stdout",
     "output_type": "stream",
     "text": [
      "1\n"
     ]
    }
   ],
   "source": [
    "# But you CAN address values\n",
    "my_tuple = (1, 2, 3)\n",
    "print (my_tuple[0])"
   ]
  },
  {
   "cell_type": "markdown",
   "id": "97c6eb17-7611-4b5c-ad07-83bda28cc5d5",
   "metadata": {},
   "source": [
    "### B.3. Set -> NO order, remove Duplicates automatically"
   ]
  },
  {
   "cell_type": "code",
   "execution_count": 21,
   "id": "1959b467-ede5-4576-80f8-f40627dee13d",
   "metadata": {},
   "outputs": [
    {
     "data": {
      "text/plain": [
       "set"
      ]
     },
     "execution_count": 21,
     "metadata": {},
     "output_type": "execute_result"
    }
   ],
   "source": [
    "my_set = {\"apple\", \"banana\", \"cherry\"}\n",
    "type (my_set)"
   ]
  },
  {
   "cell_type": "code",
   "execution_count": 18,
   "id": "4dccce5a-c542-45c6-b113-e97042988b23",
   "metadata": {},
   "outputs": [
    {
     "name": "stdout",
     "output_type": "stream",
     "text": [
      "{'cherry', 'banana', 'apple'}\n"
     ]
    }
   ],
   "source": [
    "# 1. Set do not have a fixed order like a list or typle\n",
    "\n",
    "my_set = {\"apple\", \"banana\", \"cherry\"} # you might that the result is in a different order \n",
    "print(my_set)\n"
   ]
  },
  {
   "cell_type": "code",
   "execution_count": 19,
   "id": "4c182828-d005-46aa-bbdd-47c9bdb71785",
   "metadata": {},
   "outputs": [
    {
     "name": "stdout",
     "output_type": "stream",
     "text": [
      "{'cherry', 'banana', 'apple'}\n"
     ]
    }
   ],
   "source": [
    "# 2. Set automatically remove dupplicates\n",
    "\n",
    "my_set = {\"apple\", \"banana\", \"apple\", \"cherry\", \"banana\"}\n",
    "print(my_set)"
   ]
  },
  {
   "cell_type": "code",
   "execution_count": 20,
   "id": "f56a8c4a-47cc-4cfb-a056-886bfedd6a0a",
   "metadata": {},
   "outputs": [
    {
     "ename": "TypeError",
     "evalue": "'set' object is not subscriptable",
     "output_type": "error",
     "traceback": [
      "\u001b[1;31m---------------------------------------------------------------------------\u001b[0m",
      "\u001b[1;31mTypeError\u001b[0m                                 Traceback (most recent call last)",
      "Cell \u001b[1;32mIn[20], line 2\u001b[0m\n\u001b[0;32m      1\u001b[0m \u001b[38;5;66;03m# 3. you CAN'T access items by index:\u001b[39;00m\n\u001b[1;32m----> 2\u001b[0m my_set [\u001b[38;5;241m0\u001b[39m]\n",
      "\u001b[1;31mTypeError\u001b[0m: 'set' object is not subscriptable"
     ]
    }
   ],
   "source": [
    "# 3. you CAN'T access items by index:\n",
    "my_set [0] # because Set don't have a fixed order"
   ]
  },
  {
   "cell_type": "markdown",
   "id": "72e2cb09-e759-4cae-8006-368bbc415029",
   "metadata": {},
   "source": [
    "### B.4. Dict -> \"Dictionary\" stores values using keys\n",
    "\n",
    "*Each **key** is connected to a **value***\n",
    "\n",
    "| Key  | Value |\n",
    "| ---- | ----- |\n",
    "| name | Alice |\n",
    "| age  | 25    |\n",
    "| city | Hanoi |\n"
   ]
  },
  {
   "cell_type": "code",
   "execution_count": 23,
   "id": "5ae7b0f9-a021-4aea-959b-90a552b0cd27",
   "metadata": {},
   "outputs": [
    {
     "data": {
      "text/plain": [
       "dict"
      ]
     },
     "execution_count": 23,
     "metadata": {},
     "output_type": "execute_result"
    }
   ],
   "source": [
    "person = {\n",
    "    \"name\": \"kine\",      # key: \"name\"   → value: \"kine\"\n",
    "    \"age\": 250,            # key: \"age\"    → value: 250\n",
    "    \"city\": \"Unknown\"       # key: \"city\"   → value: \"Unknown\"\n",
    "}\n",
    "type (person)"
   ]
  },
  {
   "cell_type": "markdown",
   "id": "f7a8bbb8-9e27-4d1f-8c17-8b3dc6b54199",
   "metadata": {},
   "source": [
    "## C. Other Important Types"
   ]
  },
  {
   "cell_type": "code",
   "execution_count": 24,
   "id": "35c34ce1-1572-4f3f-b068-d551c9956e63",
   "metadata": {},
   "outputs": [
    {
     "data": {
      "text/plain": [
       "NoneType"
      ]
     },
     "execution_count": 24,
     "metadata": {},
     "output_type": "execute_result"
    }
   ],
   "source": [
    "# None type = nothing or no value\n",
    "x = None\n",
    "type (x)"
   ]
  },
  {
   "cell_type": "markdown",
   "id": "2fc10479-a23b-45f8-8d73-ec5f2846a08c",
   "metadata": {},
   "source": [
    "# 2. How to convert data types?"
   ]
  },
  {
   "cell_type": "code",
   "execution_count": 25,
   "id": "ac66ff1c-7f2c-4516-90b9-a58f48ff7db2",
   "metadata": {},
   "outputs": [
    {
     "data": {
      "text/plain": [
       "['a', 'b', 'c']"
      ]
     },
     "execution_count": 25,
     "metadata": {},
     "output_type": "execute_result"
    }
   ],
   "source": [
    "str(123)       # '123'\n",
    "int(\"456\")     # 456\n",
    "float(\"3.14\")  # 3.14\n",
    "list(\"abc\")    # ['a', 'b', 'c']\n"
   ]
  },
  {
   "cell_type": "code",
   "execution_count": 26,
   "id": "05b87f02-2e56-4841-81a9-c1abb8536ed3",
   "metadata": {},
   "outputs": [
    {
     "ename": "ValueError",
     "evalue": "invalid literal for int() with base 10: 'hello'",
     "output_type": "error",
     "traceback": [
      "\u001b[1;31m---------------------------------------------------------------------------\u001b[0m",
      "\u001b[1;31mValueError\u001b[0m                                Traceback (most recent call last)",
      "Cell \u001b[1;32mIn[26], line 3\u001b[0m\n\u001b[0;32m      1\u001b[0m \u001b[38;5;66;03m# But not all conversion work\u001b[39;00m\n\u001b[1;32m----> 3\u001b[0m \u001b[38;5;28mint\u001b[39m(\u001b[38;5;124m\"\u001b[39m\u001b[38;5;124mhello\u001b[39m\u001b[38;5;124m\"\u001b[39m)\n",
      "\u001b[1;31mValueError\u001b[0m: invalid literal for int() with base 10: 'hello'"
     ]
    }
   ],
   "source": [
    "# But not all conversion work\n",
    "\n",
    "int(\"hello\")"
   ]
  },
  {
   "cell_type": "markdown",
   "id": "07f9de7a-ac9d-4e19-af42-422ecbf2e5ed",
   "metadata": {},
   "source": [
    "# 3. How to test types?"
   ]
  },
  {
   "cell_type": "markdown",
   "id": "2ca8f1c9-91e5-4e83-8da1-5f36259114e0",
   "metadata": {},
   "source": [
    " **WHY**: The reason is to **CHECK** the variable is the **right** type before operation"
   ]
  },
  {
   "cell_type": "code",
   "execution_count": 27,
   "id": "22f4f193-0103-4453-89bc-692d03bdd713",
   "metadata": {},
   "outputs": [
    {
     "name": "stdout",
     "output_type": "stream",
     "text": [
      "False\n"
     ]
    }
   ],
   "source": [
    "x = [1, 2, 3]\n",
    "print(isinstance(x, dict))     # False\n"
   ]
  },
  {
   "cell_type": "markdown",
   "id": "9f03b629-36ed-48c6-94e0-9d783b9df216",
   "metadata": {},
   "source": [
    "# 4. Slicing"
   ]
  },
  {
   "cell_type": "code",
   "execution_count": null,
   "id": "914f3641-4d3b-4e82-81d1-53b87a835192",
   "metadata": {},
   "outputs": [],
   "source": [
    "# Syntax: A[start:stop] : gives you characters from start index up to, but not including, stop index.\n",
    "\n",
    "A = 'HELLO WORLD'\n",
    "\n",
    "A[0]   → 'H'         (indexing — get one letter)\n",
    "A[:5]  → 'HELLO'     (slicing — get from start to index 4)\n",
    "A[6:]  → 'WORLD'     (get from index 6 to the end)\n"
   ]
  },
  {
   "cell_type": "code",
   "execution_count": 28,
   "id": "a3454a98-bbe8-4d17-8dfc-ab69b1b1cdda",
   "metadata": {},
   "outputs": [
    {
     "data": {
      "text/plain": [
       "'HELLO'"
      ]
     },
     "execution_count": 28,
     "metadata": {},
     "output_type": "execute_result"
    }
   ],
   "source": [
    "A = 'HELLO WORLD'\n",
    "A[:5]"
   ]
  }
 ],
 "metadata": {
  "kernelspec": {
   "display_name": "Python [conda env:base] *",
   "language": "python",
   "name": "conda-base-py"
  },
  "language_info": {
   "codemirror_mode": {
    "name": "ipython",
    "version": 3
   },
   "file_extension": ".py",
   "mimetype": "text/x-python",
   "name": "python",
   "nbconvert_exporter": "python",
   "pygments_lexer": "ipython3",
   "version": "3.13.5"
  }
 },
 "nbformat": 4,
 "nbformat_minor": 5
}
