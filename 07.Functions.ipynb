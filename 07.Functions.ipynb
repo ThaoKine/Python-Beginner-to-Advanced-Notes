{
 "cells": [
  {
   "cell_type": "markdown",
   "id": "de9b1000-b963-40bb-8eca-d8e1b53877dd",
   "metadata": {},
   "source": [
    "## What is a Function?\n",
    "A function is like a **mini-program or a recipe** you write once and use whenever you want.\n",
    "\n",
    "➡️ It’s a block of code that does something specific."
   ]
  },
  {
   "cell_type": "code",
   "execution_count": 1,
   "id": "e0f6f11a-f80b-45ac-9684-2b439c05ed79",
   "metadata": {},
   "outputs": [],
   "source": [
    "def say_hello():\n",
    "    print(\"Hello there!\")"
   ]
  },
  {
   "cell_type": "markdown",
   "id": "fcf63615-f2c0-4ca8-8992-3e68f436aa8a",
   "metadata": {},
   "source": [
    "`def` → tells Python you're defining a function.\n",
    "\n",
    "`say_hello` → is the name of the function.\n",
    "\n",
    "`()` → means it takes no extra info (yet).\n",
    "\n",
    "Inside the function: what you want it to do."
   ]
  },
  {
   "cell_type": "code",
   "execution_count": 2,
   "id": "da194c56-a573-45a6-9b67-975cf169a441",
   "metadata": {},
   "outputs": [
    {
     "name": "stdout",
     "output_type": "stream",
     "text": [
      "Hello there!\n"
     ]
    }
   ],
   "source": [
    "say_hello() # Function Call and then, we'll have an output!\n"
   ]
  },
  {
   "cell_type": "code",
   "execution_count": 2,
   "id": "d05a3982-4f5c-4c0c-8927-6c22cda402ea",
   "metadata": {},
   "outputs": [],
   "source": [
    "def number_squared(number):\n",
    "    print(number**2) # = number^2"
   ]
  },
  {
   "cell_type": "code",
   "execution_count": 3,
   "id": "6d853250-9dda-49a7-8351-4ce725865cc9",
   "metadata": {},
   "outputs": [
    {
     "name": "stdout",
     "output_type": "stream",
     "text": [
      "25\n"
     ]
    }
   ],
   "source": [
    "number_squared(5)"
   ]
  },
  {
   "cell_type": "code",
   "execution_count": 4,
   "id": "23ed9e43-ccad-40a9-bfee-b885bb88c68a",
   "metadata": {},
   "outputs": [],
   "source": [
    "def number_squared_cust(number, power):\n",
    "    print(number**power) # number^power"
   ]
  },
  {
   "cell_type": "code",
   "execution_count": 5,
   "id": "36f448ea-d58e-4853-af4f-dc037c7f5631",
   "metadata": {},
   "outputs": [
    {
     "name": "stdout",
     "output_type": "stream",
     "text": [
      "125\n"
     ]
    }
   ],
   "source": [
    "number_squared_cust(5, 3)"
   ]
  },
  {
   "cell_type": "code",
   "execution_count": 6,
   "id": "9139828a-41d4-40ff-b237-8cb28ef8728a",
   "metadata": {},
   "outputs": [],
   "source": [
    "def number_args (*number): #*number:  takes any number of arguments\n",
    "    print (number[0]*number[1]) # It multiplies the first and second arguments"
   ]
  },
  {
   "cell_type": "code",
   "execution_count": 7,
   "id": "e74d3f54-0c3e-49fd-92cb-9f25873b0e79",
   "metadata": {},
   "outputs": [
    {
     "name": "stdout",
     "output_type": "stream",
     "text": [
      "30\n"
     ]
    }
   ],
   "source": [
    "number_args(5,6, 1, 2, 8) # 5*6"
   ]
  },
  {
   "cell_type": "code",
   "execution_count": 8,
   "id": "5c01d40e-3ee9-4663-ab0f-685c0ccdf0ab",
   "metadata": {},
   "outputs": [
    {
     "name": "stdout",
     "output_type": "stream",
     "text": [
      "30\n"
     ]
    }
   ],
   "source": [
    "args_tuple = (5,6, 1, 2, 8)\n",
    "\n",
    "number_args (*args_tuple) #*args_tuple unpacks the tuple into individual arguments."
   ]
  },
  {
   "cell_type": "code",
   "execution_count": null,
   "id": "42561a84-c2cc-43b3-bc51-98b9dea251d6",
   "metadata": {},
   "outputs": [],
   "source": [
    "def number_squared_cust(number, power):\n",
    "    print(number**power) # number^power"
   ]
  },
  {
   "cell_type": "code",
   "execution_count": 9,
   "id": "19625a7d-1cb7-4e68-a9d2-c1a2f2c96354",
   "metadata": {},
   "outputs": [
    {
     "name": "stdout",
     "output_type": "stream",
     "text": [
      "243\n"
     ]
    }
   ],
   "source": [
    "number_squared_cust(power = 5, number = 3)"
   ]
  },
  {
   "cell_type": "code",
   "execution_count": 13,
   "id": "b8e0376d-6866-4806-bc50-55aa25485d92",
   "metadata": {},
   "outputs": [],
   "source": [
    "def number_kwarg(**number): #The ** syntax means: \"take keyword arguments and put them into a dictionary\".\n",
    "    print ('My number is: '+ number['integer'] + ' My other number:' + number['integer2'])"
   ]
  },
  {
   "cell_type": "code",
   "execution_count": 14,
   "id": "5ac61f44-c3c5-4a22-9cb0-f554dbad2e90",
   "metadata": {},
   "outputs": [
    {
     "name": "stdout",
     "output_type": "stream",
     "text": [
      "My number is: 1111 My other number:2003\n"
     ]
    }
   ],
   "source": [
    "number_kwarg(integer = '1111', integer2 ='2003')"
   ]
  },
  {
   "cell_type": "markdown",
   "id": "67e2d85f-da5a-4b11-97f3-202d2f7c5c81",
   "metadata": {},
   "source": [
    "# Exercise 1: Print Full Name\n",
    "**Task**: Write a function that takes any number of keyword arguments, but always expects `first_name` and `last_name`. Print the full name."
   ]
  },
  {
   "cell_type": "code",
   "execution_count": 26,
   "id": "bd6e7fe1-bf63-43a5-ba0b-01da169f7be4",
   "metadata": {},
   "outputs": [],
   "source": [
    "def full_name(first_name, last_name):\n",
    "    print (first_name, last_name)"
   ]
  },
  {
   "cell_type": "code",
   "execution_count": 27,
   "id": "b06ea94a-9bba-4f7b-9a77-23a5a96a0211",
   "metadata": {},
   "outputs": [
    {
     "name": "stdout",
     "output_type": "stream",
     "text": [
      "Kine Vincenzo\n"
     ]
    }
   ],
   "source": [
    "full_name (first_name = 'Kine', last_name = 'Vincenzo')"
   ]
  }
 ],
 "metadata": {
  "kernelspec": {
   "display_name": "Python [conda env:base] *",
   "language": "python",
   "name": "conda-base-py"
  },
  "language_info": {
   "codemirror_mode": {
    "name": "ipython",
    "version": 3
   },
   "file_extension": ".py",
   "mimetype": "text/x-python",
   "name": "python",
   "nbconvert_exporter": "python",
   "pygments_lexer": "ipython3",
   "version": "3.13.5"
  }
 },
 "nbformat": 4,
 "nbformat_minor": 5
}
