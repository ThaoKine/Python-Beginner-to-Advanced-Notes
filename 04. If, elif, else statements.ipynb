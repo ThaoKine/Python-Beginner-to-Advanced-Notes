{
 "cells": [
  {
   "cell_type": "markdown",
   "id": "e3b93fb8-eb72-4d09-a655-04be1b43d72c",
   "metadata": {},
   "source": [
    "| Keyword | Meaning                                                            |\n",
    "| ------- | ------------------------------------------------------------------ |\n",
    "| `if`    | Checks a condition: if it's `True`, do something                   |\n",
    "| `elif`  | “Else if” — checks another condition if the first `if` was `False` |\n",
    "| `else`  | Runs if **none** of the above conditions were `True`               |\n"
   ]
  },
  {
   "cell_type": "code",
   "execution_count": 1,
   "id": "d3f5a529-2968-4cb3-ae21-a1b2dfdbaa46",
   "metadata": {},
   "outputs": [
    {
     "name": "stdout",
     "output_type": "stream",
     "text": [
      "Grade: B\n"
     ]
    }
   ],
   "source": [
    "score = 85\n",
    "\n",
    "if score >= 90:\n",
    "    print(\"Grade: A\")\n",
    "elif score >= 80:\n",
    "    print(\"Grade: B\")\n",
    "elif score >= 70:\n",
    "    print(\"Grade: C\")\n",
    "else:\n",
    "    print(\"Grade: F\")\n"
   ]
  },
  {
   "cell_type": "code",
   "execution_count": 5,
   "id": "9a6889fd-e290-4557-8523-89cee3bca748",
   "metadata": {},
   "outputs": [
    {
     "name": "stdout",
     "output_type": "stream",
     "text": [
      "It worked\n"
     ]
    }
   ],
   "source": [
    "if 25 > 10:\n",
    "    print ('It worked')\n",
    "\n",
    "else: \n",
    "    print ('It did not work')"
   ]
  },
  {
   "cell_type": "code",
   "execution_count": 7,
   "id": "e996aab6-294b-45fa-8797-17d30e083eaa",
   "metadata": {},
   "outputs": [
    {
     "name": "stdout",
     "output_type": "stream",
     "text": [
      "It did not work\n"
     ]
    }
   ],
   "source": [
    "if 25 < 10:\n",
    "    print ('It worked')\n",
    "elif 25 > 30:\n",
    "    print ('elif did not work')\n",
    "else: \n",
    "    print ('It did not work')"
   ]
  },
  {
   "cell_type": "code",
   "execution_count": 8,
   "id": "0d00aeb9-1e74-4535-9755-0e5bd08f351d",
   "metadata": {},
   "outputs": [
    {
     "name": "stdout",
     "output_type": "stream",
     "text": [
      "It worked\n"
     ]
    }
   ],
   "source": [
    "if (25 < 10) or (25 > 22) :\n",
    "    print ('It worked')\n",
    "elif 25 > 30:\n",
    "    print ('elif did not work')\n",
    "elif 25 > 22:\n",
    "    print ('elif did work')\n",
    "else: \n",
    "    print ('It did not work')"
   ]
  },
  {
   "cell_type": "code",
   "execution_count": 9,
   "id": "951706cb-97c6-4554-9993-98f5d3ea26cf",
   "metadata": {},
   "outputs": [
    {
     "name": "stdout",
     "output_type": "stream",
     "text": [
      "It did not work...\n"
     ]
    }
   ],
   "source": [
    "print ('It worked') if 10 > 30 else print ('It did not work...') #say everything in 1 line"
   ]
  },
  {
   "cell_type": "markdown",
   "id": "d15144e5-29df-47ed-83a1-304f82caa7f0",
   "metadata": {},
   "source": [
    "## Nest IF statements \n",
    "\n",
    "- is when you put one `if` statement inside another `if`."
   ]
  },
  {
   "cell_type": "code",
   "execution_count": 10,
   "id": "584cc0d8-2f17-4a55-8360-b803720cee8f",
   "metadata": {},
   "outputs": [
    {
     "name": "stdout",
     "output_type": "stream",
     "text": [
      "You can enter.\n"
     ]
    }
   ],
   "source": [
    "age = 18\n",
    "has_id = True\n",
    "\n",
    "if age >= 18: \n",
    "    if has_id: # you can see that the nested if statement is ONE TAB away from the previous\n",
    "        print(\"You can enter.\")\n",
    "    else:\n",
    "        print(\"You need an ID to enter.\")\n",
    "else:\n",
    "    print(\"You're too young to enter.\")\n"
   ]
  }
 ],
 "metadata": {
  "kernelspec": {
   "display_name": "Python [conda env:base] *",
   "language": "python",
   "name": "conda-base-py"
  },
  "language_info": {
   "codemirror_mode": {
    "name": "ipython",
    "version": 3
   },
   "file_extension": ".py",
   "mimetype": "text/x-python",
   "name": "python",
   "nbconvert_exporter": "python",
   "pygments_lexer": "ipython3",
   "version": "3.13.5"
  }
 },
 "nbformat": 4,
 "nbformat_minor": 5
}
