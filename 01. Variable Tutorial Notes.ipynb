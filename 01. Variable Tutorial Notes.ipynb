{
 "cells": [
  {
   "cell_type": "markdown",
   "id": "0daa1e84-10de-426e-9377-50afd7a50b10",
   "metadata": {},
   "source": [
    "# Variables in Python"
   ]
  },
  {
   "cell_type": "markdown",
   "id": "5422d956-03b7-4cde-aaa3-278b95361d91",
   "metadata": {},
   "source": [
    "- Variable is **a backpack** where you can put anything (values) in it and you don't need to repeat the values\n",
    "\n",
    "- For example: age = 25\n",
    "\n",
    "- then, age is a backpack that has the number '25' in it.\n",
    "\n",
    "- but if we say it in **Python language**,\n",
    "\n",
    "> *age is a variable that holds 25* "
   ]
  },
  {
   "cell_type": "code",
   "execution_count": 1,
   "id": "124e40dc-e810-4cdc-9a05-53e6a4cad2be",
   "metadata": {},
   "outputs": [
    {
     "name": "stdout",
     "output_type": "stream",
     "text": [
      "25\n"
     ]
    }
   ],
   "source": [
    "age = 25\n",
    "print (age)"
   ]
  },
  {
   "cell_type": "markdown",
   "id": "fe06f3ca-7852-4d0b-8a5d-2a1e0a988130",
   "metadata": {},
   "source": [
    "Another good thing about varibles in Python is that they automatically define the data type for use. So we don't have to type **Integer** next to it. So to check we can say ..."
   ]
  },
  {
   "cell_type": "code",
   "execution_count": 4,
   "id": "c36c4685-c883-4f45-bb7d-f2b6ce00e7c6",
   "metadata": {},
   "outputs": [
    {
     "data": {
      "text/plain": [
       "int"
      ]
     },
     "execution_count": 4,
     "metadata": {},
     "output_type": "execute_result"
    }
   ],
   "source": [
    "type (age)"
   ]
  },
  {
   "cell_type": "markdown",
   "id": "fcd52491-6407-4a65-a5c7-645344ff6f91",
   "metadata": {},
   "source": [
    "Another example for texts, strings"
   ]
  },
  {
   "cell_type": "code",
   "execution_count": 6,
   "id": "8edc24b0-276f-43a5-bbd5-975d3ef74a73",
   "metadata": {},
   "outputs": [
    {
     "name": "stdout",
     "output_type": "stream",
     "text": [
      "My mood\n"
     ]
    }
   ],
   "source": [
    "y = 'My mood'\n",
    "\n",
    "print(y)"
   ]
  },
  {
   "cell_type": "code",
   "execution_count": 7,
   "id": "d250c2ed-1c80-4f45-a272-789cd6b8c15c",
   "metadata": {},
   "outputs": [
    {
     "data": {
      "text/plain": [
       "str"
      ]
     },
     "execution_count": 7,
     "metadata": {},
     "output_type": "execute_result"
    }
   ],
   "source": [
    "type(y)"
   ]
  },
  {
   "cell_type": "code",
   "execution_count": 13,
   "id": "16f48360-56f5-4f59-a93b-e1930fa0b971",
   "metadata": {},
   "outputs": [
    {
     "name": "stdout",
     "output_type": "stream",
     "text": [
      "My girl\n"
     ]
    }
   ],
   "source": [
    "### Another important thing about VARIABLES:\n",
    "\n",
    "## you **CAN** overwrite previous variables. Look at the example below:\n",
    "\n",
    "y = 'My girl'\n",
    "\n",
    "print (y)"
   ]
  },
  {
   "cell_type": "code",
   "execution_count": 14,
   "id": "5411a2dc-6dbf-49ba-b631-f2991ee3bb76",
   "metadata": {},
   "outputs": [
    {
     "name": "stdout",
     "output_type": "stream",
     "text": [
      "Mint Choco\n"
     ]
    }
   ],
   "source": [
    "## Variables are also sensitive (case-wise)\n",
    "\n",
    "y = 'My girl'\n",
    "\n",
    "Y = 'Mint Choco'\n",
    "print (Y)"
   ]
  },
  {
   "cell_type": "code",
   "execution_count": 15,
   "id": "9f98b7bf-cb27-4f4b-b001-8952edca98e2",
   "metadata": {},
   "outputs": [
    {
     "name": "stdout",
     "output_type": "stream",
     "text": [
      "22\n",
      "Kine\n",
      "analytical\n"
     ]
    }
   ],
   "source": [
    "### Moreover, we can assign multiple values to multiple variables at the same time\n",
    "\n",
    "x, y, z = '22', 'Kine', 'analytical'\n",
    "\n",
    "print (x)\n",
    "print (y)\n",
    "print (z)"
   ]
  },
  {
   "cell_type": "code",
   "execution_count": 16,
   "id": "49cf6292-f15c-4bc2-8c34-b3cdeed7a8d1",
   "metadata": {},
   "outputs": [
    {
     "name": "stdout",
     "output_type": "stream",
     "text": [
      "Good boy\n",
      "Good boy\n",
      "Good boy\n"
     ]
    }
   ],
   "source": [
    "### we can also assign multiple VARIABLES to ONE value\n",
    "\n",
    "x = y = z = 'Good boy'\n",
    "print (x)\n",
    "print (y)\n",
    "print (z)"
   ]
  },
  {
   "cell_type": "markdown",
   "id": "776ada62-d48a-41f6-9979-a9f53c3212d2",
   "metadata": {},
   "source": [
    "## List creation"
   ]
  },
  {
   "cell_type": "code",
   "execution_count": 21,
   "id": "6efad990-24dc-403c-955f-0d66bd290a05",
   "metadata": {},
   "outputs": [
    {
     "name": "stdout",
     "output_type": "stream",
     "text": [
      "analytical\n",
      "guarded but open\n",
      "a woman of her word\n",
      "book geek\n",
      "street smart\n",
      "objective\n"
     ]
    }
   ],
   "source": [
    "my_goal_personality_wise = ['analytical', 'guarded but open', 'a woman of her word', 'book geek', 'street smart', 'objective']\n",
    "a, b, c, d, e, f = my_goal_personality_wise\n",
    "print (a)\n",
    "print (b)\n",
    "print (c)\n",
    "print (d)\n",
    "print (e)\n",
    "print (f)"
   ]
  },
  {
   "cell_type": "markdown",
   "id": "f1ee9b05-eb79-4230-a080-aa5da01500a5",
   "metadata": {},
   "source": [
    "### Different ways to name variables"
   ]
  },
  {
   "cell_type": "code",
   "execution_count": null,
   "id": "f3022854-1105-4467-8d04-983cd5316561",
   "metadata": {},
   "outputs": [],
   "source": [
    "# Camel Case\n",
    "# Test Variable Case\n",
    "\n",
    "testVariableCase = 'Vanila'"
   ]
  },
  {
   "cell_type": "code",
   "execution_count": null,
   "id": "26e9e2d9-97ee-42a7-a26c-7e5c4eae1ae0",
   "metadata": {},
   "outputs": [],
   "source": [
    "# Pascal Case\n",
    "# Test Variable Case\n",
    "\n",
    "TestVariableCase = 'Vanila'"
   ]
  },
  {
   "cell_type": "code",
   "execution_count": null,
   "id": "4e59aff9-5c18-4d75-94b8-aff699fbcbd1",
   "metadata": {},
   "outputs": [],
   "source": [
    "# Snake Case -- the easiest way to read\n",
    "# Test Variable Case\n",
    "\n",
    "test_variable_case = 'Vanila'"
   ]
  },
  {
   "cell_type": "markdown",
   "id": "ded2dee8-f460-453d-beb5-2ac3611b060f",
   "metadata": {},
   "source": [
    "### Some ways you SHOULDN'T name variables"
   ]
  },
  {
   "cell_type": "code",
   "execution_count": 23,
   "id": "9d01974c-4ff8-400d-9db7-79b04a82f4a1",
   "metadata": {},
   "outputs": [
    {
     "ename": "SyntaxError",
     "evalue": "invalid decimal literal (4050159300.py, line 3)",
     "output_type": "error",
     "traceback": [
      "\u001b[1;36m  Cell \u001b[1;32mIn[23], line 3\u001b[1;36m\u001b[0m\n\u001b[1;33m    2TestVariableCase = 'Vanila'\u001b[0m\n\u001b[1;37m    ^\u001b[0m\n\u001b[1;31mSyntaxError\u001b[0m\u001b[1;31m:\u001b[0m invalid decimal literal\n"
     ]
    }
   ],
   "source": [
    "# 1. DON'T start a variable name with numbers\n",
    "\n",
    "2TestVariableCase = 'Vanila'\n",
    "\n",
    "# 2. DON'T put a dash, comma, or a blank, or any simbols in between your variable name\n",
    "TestVariable-Case = 'Vanila'\n",
    "TestVariable Case = 'Vanila'\n",
    "TestVariable,Case = 'Vanila'\n",
    "\n",
    "# 3. DON'T put a string and a number together\n",
    "x = 'Icecream' + 2\n",
    "print (x)"
   ]
  },
  {
   "cell_type": "markdown",
   "id": "56da9ef8-e02e-4e14-8152-727fdd0677e0",
   "metadata": {},
   "source": [
    "### A PLUS is allowed\n",
    "*between string vs string or string vs symbol*"
   ]
  },
  {
   "cell_type": "code",
   "execution_count": 24,
   "id": "d9f80c96-e92e-46a4-ac0f-90f1c1606cd3",
   "metadata": {},
   "outputs": [
    {
     "name": "stdout",
     "output_type": "stream",
     "text": [
      "Icecream.\n"
     ]
    }
   ],
   "source": [
    "x = 'Icecream' + '.'\n",
    "print (x)"
   ]
  },
  {
   "cell_type": "markdown",
   "id": "e46f5cc0-4981-404d-a548-618a95d0e1eb",
   "metadata": {},
   "source": [
    "#### We CAN print multiple variables \n",
    "\n",
    "at the same time"
   ]
  },
  {
   "cell_type": "code",
   "execution_count": 26,
   "id": "10b5a641-e8ec-4f02-b2b0-db3c68d1fb46",
   "metadata": {},
   "outputs": [
    {
     "name": "stdout",
     "output_type": "stream",
     "text": [
      "I'm a gal.\n"
     ]
    }
   ],
   "source": [
    "# with STRING\n",
    "\n",
    "x = \"I'm\"\n",
    "y = \" a\"\n",
    "z = \" gal.\"\n",
    "\n",
    "print (x + y + z)"
   ]
  },
  {
   "cell_type": "code",
   "execution_count": 28,
   "id": "71784ba6-7ec8-4ea0-b1eb-942b0a327c69",
   "metadata": {},
   "outputs": [
    {
     "name": "stdout",
     "output_type": "stream",
     "text": [
      "10\n"
     ]
    }
   ],
   "source": [
    "# with INTEGER\n",
    "\n",
    "x = 1\n",
    "y = 3\n",
    "z = 6\n",
    "\n",
    "print (x + y + z)"
   ]
  }
 ],
 "metadata": {
  "kernelspec": {
   "display_name": "Python [conda env:base] *",
   "language": "python",
   "name": "conda-base-py"
  },
  "language_info": {
   "codemirror_mode": {
    "name": "ipython",
    "version": 3
   },
   "file_extension": ".py",
   "mimetype": "text/x-python",
   "name": "python",
   "nbconvert_exporter": "python",
   "pygments_lexer": "ipython3",
   "version": "3.13.5"
  }
 },
 "nbformat": 4,
 "nbformat_minor": 5
}
