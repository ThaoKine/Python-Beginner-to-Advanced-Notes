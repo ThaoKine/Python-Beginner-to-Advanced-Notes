{
 "cells": [
  {
   "cell_type": "markdown",
   "id": "26efa134-bb94-4740-92a4-baa56a46094b",
   "metadata": {},
   "source": [
    "# Comparison Operators\n",
    "\n",
    "- They are used to compare two value. And then, it returns **Bool results**: `True` or `False`\n",
    "\n",
    "| Operator | Name                     | Example  | Result |\n",
    "| -------- | ------------------------ | -------- | ------ |\n",
    "| `==`     | Equal to                 | `5 == 5` | `True` |\n",
    "| `!=`     | Not equal to             | `5 != 3` | `True` |\n",
    "| `>`      | Greater than             | `10 > 3` | `True` |\n",
    "| `<`      | Less than                | `2 < 7`  | `True` |\n",
    "| `>=`     | Greater than or equal to | `5 >= 5` | `True` |\n",
    "| `<=`     | Less than or equal to    | `3 <= 4` | `True` |\n"
   ]
  },
  {
   "cell_type": "code",
   "execution_count": 1,
   "id": "af2749fc-6f27-4e10-a4bd-4b1f13e97883",
   "metadata": {},
   "outputs": [
    {
     "data": {
      "text/plain": [
       "False"
      ]
     },
     "execution_count": 1,
     "metadata": {},
     "output_type": "execute_result"
    }
   ],
   "source": [
    "# for example\n",
    "\n",
    "10 == 50"
   ]
  },
  {
   "cell_type": "code",
   "execution_count": 2,
   "id": "f5a86906-c4f2-4640-a0c0-dce96554cd88",
   "metadata": {},
   "outputs": [
    {
     "data": {
      "text/plain": [
       "True"
      ]
     },
     "execution_count": 2,
     "metadata": {},
     "output_type": "execute_result"
    }
   ],
   "source": [
    "10 != 50"
   ]
  },
  {
   "cell_type": "code",
   "execution_count": 3,
   "id": "fa68be78-7b0d-4f32-8ba2-d604d59a948c",
   "metadata": {},
   "outputs": [
    {
     "data": {
      "text/plain": [
       "True"
      ]
     },
     "execution_count": 3,
     "metadata": {},
     "output_type": "execute_result"
    }
   ],
   "source": [
    "10 <= 10"
   ]
  },
  {
   "cell_type": "code",
   "execution_count": 4,
   "id": "8a4768a5-98ea-421f-b503-f483835ed07b",
   "metadata": {},
   "outputs": [
    {
     "data": {
      "text/plain": [
       "True"
      ]
     },
     "execution_count": 4,
     "metadata": {},
     "output_type": "execute_result"
    }
   ],
   "source": [
    "10 >= 10"
   ]
  },
  {
   "cell_type": "markdown",
   "id": "d249b9cf-69a6-4840-911b-b376fa01ca6b",
   "metadata": {},
   "source": [
    "# Logical Operators\n",
    "*and, or, not* - The names speak for themselves\n",
    "\n",
    "| Operator | Example  | Result |\n",
    "| -------- |  -------- | ------ |\n",
    "| `and`    | x = 10 print(x > 5 and x < 20)| `True` |\n",
    "| `or`    | x = 10 print(x < 5 or x > 15)| `False` |\n",
    "| `not`    | x = 10 print(not x == 10)| `False` |"
   ]
  },
  {
   "cell_type": "code",
   "execution_count": 5,
   "id": "79cfc781-b5a3-482e-9b92-e7def7f84aac",
   "metadata": {},
   "outputs": [
    {
     "data": {
      "text/plain": [
       "False"
      ]
     },
     "execution_count": 5,
     "metadata": {},
     "output_type": "execute_result"
    }
   ],
   "source": [
    "(10 < 50) and (50 < 10)"
   ]
  },
  {
   "cell_type": "code",
   "execution_count": 6,
   "id": "8b9a061c-64d4-419c-b132-dee9ba4d121d",
   "metadata": {},
   "outputs": [
    {
     "data": {
      "text/plain": [
       "True"
      ]
     },
     "execution_count": 6,
     "metadata": {},
     "output_type": "execute_result"
    }
   ],
   "source": [
    "(10 < 50) and (50 > 10)"
   ]
  },
  {
   "cell_type": "code",
   "execution_count": 7,
   "id": "75bc37a1-2283-4877-a38a-c6c48ac00fde",
   "metadata": {},
   "outputs": [
    {
     "data": {
      "text/plain": [
       "True"
      ]
     },
     "execution_count": 7,
     "metadata": {},
     "output_type": "execute_result"
    }
   ],
   "source": [
    "('Vanilla' > 'Chocolate') or (50 > 10)\n",
    "\n",
    "# Vanilla is actually BIGGER than Chocolate because V is in higher number order than C in the alphabet.\n"
   ]
  },
  {
   "cell_type": "code",
   "execution_count": 8,
   "id": "e8794f42-d5c1-4117-a66f-7257a07163ce",
   "metadata": {},
   "outputs": [
    {
     "data": {
      "text/plain": [
       "False"
      ]
     },
     "execution_count": 8,
     "metadata": {},
     "output_type": "execute_result"
    }
   ],
   "source": [
    "not(50>10)"
   ]
  },
  {
   "cell_type": "markdown",
   "id": "cafee830-2270-455e-a420-cf1d7319eec2",
   "metadata": {},
   "source": [
    "# Membership operators\n",
    "\n",
    "- are use to ***test if a value exists or not*** inside a sequence or collection\n",
    "- handy if working with ***strings, lists, sets, dictionaries, and more.***\n",
    "\n",
    "| Operator | Meaning              | Example            | Result  |\n",
    "| -------- | -------------------- | ------------------ | ------- |\n",
    "| `in`     | Is the value in?     | `\"a\" in \"apple\"`   | `True`  |\n",
    "| `not in` | Is the value not in? | `\"x\" not in \"box\"` | `False` |\n"
   ]
  },
  {
   "cell_type": "code",
   "execution_count": 9,
   "id": "f14e2bbf-3866-4b3a-a007-f15c11183f71",
   "metadata": {},
   "outputs": [
    {
     "data": {
      "text/plain": [
       "False"
      ]
     },
     "execution_count": 9,
     "metadata": {},
     "output_type": "execute_result"
    }
   ],
   "source": [
    "fruits = [\"apple\", \"banana\", \"cherry\"]\n",
    "\"banana\" not in fruits"
   ]
  },
  {
   "cell_type": "code",
   "execution_count": 10,
   "id": "3a17ea0d-e7c4-458b-bf40-c3f98e3e38db",
   "metadata": {},
   "outputs": [
    {
     "data": {
      "text/plain": [
       "True"
      ]
     },
     "execution_count": 10,
     "metadata": {},
     "output_type": "execute_result"
    }
   ],
   "source": [
    "gal = 'I love me'\n",
    "\n",
    "'love' in 'I love me'"
   ]
  },
  {
   "cell_type": "code",
   "execution_count": 11,
   "id": "12ab1b8b-7f23-4b54-bab5-931b0e1ae305",
   "metadata": {},
   "outputs": [
    {
     "data": {
      "text/plain": [
       "False"
      ]
     },
     "execution_count": 11,
     "metadata": {},
     "output_type": "execute_result"
    }
   ],
   "source": [
    "scoops = [4, 1000, 6]\n",
    "\n",
    "wanted_scoops = 99\n",
    "\n",
    "wanted_scoops in scoops"
   ]
  }
 ],
 "metadata": {
  "kernelspec": {
   "display_name": "Python [conda env:base] *",
   "language": "python",
   "name": "conda-base-py"
  },
  "language_info": {
   "codemirror_mode": {
    "name": "ipython",
    "version": 3
   },
   "file_extension": ".py",
   "mimetype": "text/x-python",
   "name": "python",
   "nbconvert_exporter": "python",
   "pygments_lexer": "ipython3",
   "version": "3.13.5"
  }
 },
 "nbformat": 4,
 "nbformat_minor": 5
}
