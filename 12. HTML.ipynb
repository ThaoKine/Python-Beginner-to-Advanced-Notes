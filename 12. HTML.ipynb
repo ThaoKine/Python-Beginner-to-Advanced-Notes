{
 "cells": [
  {
   "cell_type": "markdown",
   "id": "d5458d36-a39a-4fb2-9c79-750f40ca4662",
   "metadata": {},
   "source": [
    "# What is HTML?\n",
    "HTML stands for **HyperText Markup Language**.\n",
    "\n",
    "It’s the basic language used to create web pages.\n",
    "\n",
    "Think of it like the skeleton of a webpage — it tells your browser what things are (a heading, a paragraph, an image, a link, etc.)."
   ]
  },
  {
   "cell_type": "code",
   "execution_count": null,
   "id": "c7f44c4b-ddc1-4865-a8cc-189f635ec205",
   "metadata": {},
   "outputs": [],
   "source": [
    "#Example: \n",
    "\n",
    "<!DOCTYPE html>\n",
    "<html>\n",
    "  <head>\n",
    "    <title>My First Webpage</title>\n",
    "  </head>\n",
    "  <body>\n",
    "    <h1>Hello, world!</h1>\n",
    "    <p>This is a paragraph.</p>\n",
    "    <a href=\"https://example.com\">Click here</a>\n",
    "  </body>\n",
    "</html>\n"
   ]
  },
  {
   "cell_type": "code",
   "execution_count": null,
   "id": "845b1aae-448f-4c92-b60f-0fd78d9572e4",
   "metadata": {},
   "outputs": [],
   "source": [
    "# Tags:\n",
    "\n",
    "h1> = a big heading\n",
    "\n",
    "<p> = a paragraph\n",
    "\n",
    "<a> = a link\n",
    "\n",
    "<img> = an image\n",
    "\n",
    "<div> = a container box\n",
    "\n",
    "Tags go in pairs:\n",
    "<tag>content</tag>"
   ]
  }
 ],
 "metadata": {
  "kernelspec": {
   "display_name": "Python [conda env:base] *",
   "language": "python",
   "name": "conda-base-py"
  },
  "language_info": {
   "codemirror_mode": {
    "name": "ipython",
    "version": 3
   },
   "file_extension": ".py",
   "mimetype": "text/x-python",
   "name": "python",
   "nbconvert_exporter": "python",
   "pygments_lexer": "ipython3",
   "version": "3.13.5"
  }
 },
 "nbformat": 4,
 "nbformat_minor": 5
}
