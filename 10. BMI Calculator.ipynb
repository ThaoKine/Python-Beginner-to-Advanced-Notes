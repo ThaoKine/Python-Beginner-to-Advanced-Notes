{
 "cells": [
  {
   "cell_type": "markdown",
   "id": "d5001ec1-5c9b-4ef3-a636-19e6bdbc14ce",
   "metadata": {},
   "source": [
    "https://www.calculator.net/bmi-calculator.html"
   ]
  },
  {
   "cell_type": "code",
   "execution_count": 9,
   "id": "60cbe667-f59f-45b5-a33a-c8d1e7373084",
   "metadata": {},
   "outputs": [
    {
     "name": "stdin",
     "output_type": "stream",
     "text": [
      "Enter your name here: Kine\n",
      "Enter you weight in kg here: 62\n",
      "Enter you height in m here: 1.75\n"
     ]
    },
    {
     "name": "stdout",
     "output_type": "stream",
     "text": [
      "Your BMI is: 20.244897959183675\n",
      "Your BMI Prime is: 0.809795918367347\n",
      "Kine, you are normal\n"
     ]
    }
   ],
   "source": [
    "#BMI = mass (kg)/height2 (m)\n",
    "name = str(input(\"Enter your name here:\"))\n",
    "\n",
    "weight = float(input(\"Enter you weight in kg here:\"))\n",
    "\n",
    "height = float(input(\"Enter you height in m here:\"))\n",
    "\n",
    "BMI = weight/(height**2) \n",
    "BMI_Prime = BMI/25\n",
    "print(\"Your BMI is:\", BMI)\n",
    "print(\"Your BMI Prime is:\", BMI_Prime)\n",
    "\n",
    "if BMI >0:\n",
    "    if(BMI < 16):\n",
    "        print(name + ', you are severely thin')\n",
    "    elif(16<= BMI < 17):\n",
    "        print(name + ', you are moderately thin')\n",
    "    elif(17<= BMI <18.5):\n",
    "        print(name + ', you are mildly thin')\n",
    "    elif(18.5<= BMI < 25):\n",
    "        print(name + ', you are normal')\n",
    "    elif(25<= BMI < 30):\n",
    "        print(name + ', you are overweight')\n",
    "    elif(30 <= BMI < 35):\n",
    "        print(name + ', you are subjected to Obese Class I')\n",
    "    elif(35 <= BMI <= 40):\n",
    "        print(name + ', you are subjected to Obese Class II')\n",
    "    elif( BMI > 40):\n",
    "        print(name + ', you are subjected to Obese Class III')\n",
    "    else: \n",
    "        print(\"Enter valid answer\")"
   ]
  },
  {
   "cell_type": "code",
   "execution_count": 2,
   "id": "ef1c474d-b70a-4480-9b2c-926e118c0f1e",
   "metadata": {},
   "outputs": [
    {
     "name": "stdout",
     "output_type": "stream",
     "text": [
      "62\n"
     ]
    }
   ],
   "source": [
    "print(weight)"
   ]
  },
  {
   "cell_type": "markdown",
   "id": "76b94aad-5559-4b07-b335-cf5d62b598f9",
   "metadata": {},
   "source": [
    "Classification\tBMI\tBMI Prime\n",
    "Severe Thinness\t< 16\t< 0.64\n",
    "Moderate Thinness\t16 - 17\t0.64 - 0.68\n",
    "Mild Thinness\t17 - 18.5\t0.68 - 0.74\n",
    "Normal\t18.5 - 25\t0.74 - 1\n",
    "Overweight\t25 - 30\t1 - 1.2\n",
    "Obese Class I\t30 - 35\t1.2- 1.4\n",
    "Obese Class II\t35 - 40\t1.4 - 1.6\n",
    "Obese Class III\t> 40\t> 1.6"
   ]
  }
 ],
 "metadata": {
  "kernelspec": {
   "display_name": "Python [conda env:base] *",
   "language": "python",
   "name": "conda-base-py"
  },
  "language_info": {
   "codemirror_mode": {
    "name": "ipython",
    "version": 3
   },
   "file_extension": ".py",
   "mimetype": "text/x-python",
   "name": "python",
   "nbconvert_exporter": "python",
   "pygments_lexer": "ipython3",
   "version": "3.13.5"
  }
 },
 "nbformat": 4,
 "nbformat_minor": 5
}
