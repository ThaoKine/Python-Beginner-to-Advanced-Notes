{
 "cells": [
  {
   "cell_type": "markdown",
   "id": "ed3e3a7a-8b4c-4d61-90de-820e4bce1546",
   "metadata": {},
   "source": [
    "# For Loop Definition\n",
    "**For loop** = *“Do this... and then do it again... and again... until I say stop.”*"
   ]
  },
  {
   "cell_type": "markdown",
   "id": "fc890142-3172-42f1-94f1-4a350a5950f7",
   "metadata": {},
   "source": [
    "for i in range(5):\n",
    "    print(\"Anna\")\n",
    " What this means:\n",
    "\n",
    "for = start the loop\n",
    "\n",
    "i in range(5) = repeat 5 times\n",
    "\n",
    "print(\"Anna\") = do this action each time"
   ]
  },
  {
   "cell_type": "code",
   "execution_count": 4,
   "id": "52d2e160-4dad-42f1-952c-6f30c5e9be45",
   "metadata": {},
   "outputs": [
    {
     "name": "stdout",
     "output_type": "stream",
     "text": [
      "Anna\n",
      "Anna\n",
      "Anna\n",
      "Anna\n",
      "Anna\n"
     ]
    }
   ],
   "source": [
    "for i in range(5):\n",
    "    print(\"Anna\")"
   ]
  },
  {
   "cell_type": "code",
   "execution_count": 3,
   "id": "54749c30-2f41-4e6e-a61d-e653a815f581",
   "metadata": {},
   "outputs": [
    {
     "name": "stdout",
     "output_type": "stream",
     "text": [
      "1\n",
      "2\n",
      "3\n",
      "4\n",
      "5\n"
     ]
    }
   ],
   "source": [
    "interger = [1, 2, 3, 4, 5]\n",
    "for number in interger:\n",
    "    print(number)"
   ]
  },
  {
   "cell_type": "code",
   "execution_count": 5,
   "id": "7272b876-c2ad-4efd-a302-dc14fce35bbb",
   "metadata": {},
   "outputs": [
    {
     "name": "stdout",
     "output_type": "stream",
     "text": [
      "2\n",
      "4\n",
      "6\n",
      "8\n",
      "10\n"
     ]
    }
   ],
   "source": [
    "interger = [1, 2, 3, 4, 5]\n",
    "for Jelly in interger:\n",
    "    print(Jelly + Jelly) # mean it will add itself"
   ]
  },
  {
   "cell_type": "code",
   "execution_count": 7,
   "id": "f58c5a37-836a-4f28-b84b-be963045cda5",
   "metadata": {},
   "outputs": [],
   "source": [
    "ice_cream_dict = {'name': 'Alex Freberg', 'weekly intake': 5, 'favorite ice creams': ['MCC', 'Chocolate']}"
   ]
  },
  {
   "cell_type": "code",
   "execution_count": 8,
   "id": "2181a266-9ef2-4ecf-882d-32e61fe58762",
   "metadata": {},
   "outputs": [
    {
     "name": "stdout",
     "output_type": "stream",
     "text": [
      "Alex Freberg\n",
      "5\n",
      "['MCC', 'Chocolate']\n"
     ]
    }
   ],
   "source": [
    "# you need to run (Shift + Enter) the cell above first, or else this cell can't identify the \"ice_cream_dict\"\n",
    "for cream in ice_cream_dict.values():\n",
    "    print(cream)"
   ]
  },
  {
   "cell_type": "code",
   "execution_count": 9,
   "id": "f3dafcf4-c6da-48d2-bf84-9a6c73b1211a",
   "metadata": {},
   "outputs": [
    {
     "name": "stdout",
     "output_type": "stream",
     "text": [
      "name -> Alex Freberg\n",
      "weekly intake -> 5\n",
      "favorite ice creams -> ['MCC', 'Chocolate']\n"
     ]
    }
   ],
   "source": [
    "for key, value in ice_cream_dict.items():\n",
    "    print (key, '->', value)"
   ]
  },
  {
   "cell_type": "markdown",
   "id": "47126a34-c8ff-4957-8de9-dd84cadaebf6",
   "metadata": {},
   "source": [
    "# Nested For Loops:\n",
    "\n",
    "For Loops **WITHIN** For Loops"
   ]
  },
  {
   "cell_type": "code",
   "execution_count": 10,
   "id": "21c64b30-df49-4734-8bf6-5d5ae760da47",
   "metadata": {},
   "outputs": [],
   "source": [
    "flavors =['Vanilla', 'Chocolate', 'Cookie Dough']\n",
    "toppings = ['Hot Fudge', 'Oreos', 'Marshmallows']"
   ]
  },
  {
   "cell_type": "code",
   "execution_count": 11,
   "id": "8aa8920b-5752-42b5-a1a7-bea1f77e9064",
   "metadata": {},
   "outputs": [
    {
     "name": "stdout",
     "output_type": "stream",
     "text": [
      "Vanilla topped with Hot Fudge\n",
      "Vanilla topped with Oreos\n",
      "Vanilla topped with Marshmallows\n",
      "Chocolate topped with Hot Fudge\n",
      "Chocolate topped with Oreos\n",
      "Chocolate topped with Marshmallows\n",
      "Cookie Dough topped with Hot Fudge\n",
      "Cookie Dough topped with Oreos\n",
      "Cookie Dough topped with Marshmallows\n"
     ]
    }
   ],
   "source": [
    "for one in flavors:\n",
    "    for two in toppings:\n",
    "        print(one, 'topped with', two)"
   ]
  }
 ],
 "metadata": {
  "kernelspec": {
   "display_name": "Python [conda env:base] *",
   "language": "python",
   "name": "conda-base-py"
  },
  "language_info": {
   "codemirror_mode": {
    "name": "ipython",
    "version": 3
   },
   "file_extension": ".py",
   "mimetype": "text/x-python",
   "name": "python",
   "nbconvert_exporter": "python",
   "pygments_lexer": "ipython3",
   "version": "3.13.5"
  }
 },
 "nbformat": 4,
 "nbformat_minor": 5
}
