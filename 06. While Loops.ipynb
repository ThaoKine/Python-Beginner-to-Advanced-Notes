{
 "cells": [
  {
   "cell_type": "markdown",
   "id": "d334126e-6472-4921-97e5-ef2a77ef5904",
   "metadata": {},
   "source": [
    "# While Loops Definition\n",
    "\n",
    "**While Loops** = *\"Keep doing this while a certain thing is true.\"*"
   ]
  },
  {
   "cell_type": "code",
   "execution_count": 2,
   "id": "3c879467-4108-435e-bc62-4ff43a44db88",
   "metadata": {},
   "outputs": [
    {
     "name": "stdout",
     "output_type": "stream",
     "text": [
      "0\n",
      "1\n",
      "2\n",
      "3\n",
      "4\n"
     ]
    }
   ],
   "source": [
    "number = 0\n",
    "while number < 5:\n",
    "    print(number)\n",
    "    number = number + 1"
   ]
  },
  {
   "cell_type": "markdown",
   "id": "1e459723-c454-496f-b80b-f658c9451cb6",
   "metadata": {},
   "source": [
    "`break` means **“stop the loop immediately.”**\n",
    "\n",
    "You use it **inside** a loop when you want to stop running the loop even if the condition is still true."
   ]
  },
  {
   "cell_type": "code",
   "execution_count": 3,
   "id": "b1aba503-99f6-4a9a-a299-ca28df27bd80",
   "metadata": {},
   "outputs": [
    {
     "name": "stdout",
     "output_type": "stream",
     "text": [
      "1\n",
      "2\n",
      "3\n"
     ]
    }
   ],
   "source": [
    "count = 1\n",
    "while True:  # This would normally go on forever\n",
    "    print(count)\n",
    "    if count == 3:\n",
    "        break  # Stop the loop when count is 3\n",
    "    count += 1 # = count = count + 1"
   ]
  },
  {
   "cell_type": "code",
   "execution_count": 4,
   "id": "5dee14fd-8bf7-40bb-bf88-9fc732e8daee",
   "metadata": {},
   "outputs": [
    {
     "name": "stdout",
     "output_type": "stream",
     "text": [
      "0\n",
      "1\n",
      "2\n",
      "3\n",
      "4\n",
      "No longer < 5\n"
     ]
    }
   ],
   "source": [
    "number = 0\n",
    "while number < 5:\n",
    "    print(number)\n",
    "    if number == 6:\n",
    "        break\n",
    "    number += 1\n",
    "else: \n",
    "    print('No longer < 5')"
   ]
  },
  {
   "cell_type": "code",
   "execution_count": 5,
   "id": "7d1495aa-f041-4eec-896b-d75c38b7279d",
   "metadata": {},
   "outputs": [
    {
     "name": "stdout",
     "output_type": "stream",
     "text": [
      "1\n",
      "2\n",
      "4\n",
      "5\n"
     ]
    }
   ],
   "source": [
    "count = 0\n",
    "while count < 5:\n",
    "    count += 1\n",
    "    if count == 3:\n",
    "        continue  # skip printing when count is 3\n",
    "    print(count)\n"
   ]
  },
  {
   "cell_type": "code",
   "execution_count": 7,
   "id": "1cc96181-228d-46ad-a669-b76620583a28",
   "metadata": {},
   "outputs": [
    {
     "name": "stdout",
     "output_type": "stream",
     "text": [
      "1\n",
      "2\n",
      "4\n",
      "5\n",
      "No longer < 5\n"
     ]
    }
   ],
   "source": [
    "number = 0\n",
    "while number < 5:\n",
    "    number += 1\n",
    "    \n",
    "    if number == 3:\n",
    "        continue # instead of breaking the whole loop, `continue` just jumps to the next round of loop.\n",
    "    print(number)\n",
    "else: \n",
    "    print('No longer < 5')"
   ]
  }
 ],
 "metadata": {
  "kernelspec": {
   "display_name": "Python [conda env:base] *",
   "language": "python",
   "name": "conda-base-py"
  },
  "language_info": {
   "codemirror_mode": {
    "name": "ipython",
    "version": 3
   },
   "file_extension": ".py",
   "mimetype": "text/x-python",
   "name": "python",
   "nbconvert_exporter": "python",
   "pygments_lexer": "ipython3",
   "version": "3.13.5"
  }
 },
 "nbformat": 4,
 "nbformat_minor": 5
}
