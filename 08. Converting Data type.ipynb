{
 "cells": [
  {
   "cell_type": "markdown",
   "id": "d0582879-e655-47f6-9b87-fc7719924248",
   "metadata": {},
   "source": [
    "# Converting Data Types"
   ]
  },
  {
   "cell_type": "code",
   "execution_count": 1,
   "id": "1ec8eb1c-f9bf-48b3-a0c2-80876082b848",
   "metadata": {},
   "outputs": [
    {
     "data": {
      "text/plain": [
       "int"
      ]
     },
     "execution_count": 1,
     "metadata": {},
     "output_type": "execute_result"
    }
   ],
   "source": [
    "num_int = 7\n",
    "\n",
    "type(num_int)"
   ]
  },
  {
   "cell_type": "code",
   "execution_count": 2,
   "id": "44ce3716-5257-498b-bb1d-e60e4cc73b53",
   "metadata": {},
   "outputs": [
    {
     "data": {
      "text/plain": [
       "str"
      ]
     },
     "execution_count": 2,
     "metadata": {},
     "output_type": "execute_result"
    }
   ],
   "source": [
    "num_str ='7'\n",
    "type(num_str)"
   ]
  },
  {
   "cell_type": "code",
   "execution_count": 3,
   "id": "bb98b711-02e5-4fb5-aee1-25963071c87b",
   "metadata": {},
   "outputs": [],
   "source": [
    "num_str_convert_to_int = int(num_str)"
   ]
  },
  {
   "cell_type": "code",
   "execution_count": 6,
   "id": "58216d9a-6b47-436d-bed4-7c3cc0f99fe7",
   "metadata": {},
   "outputs": [
    {
     "name": "stdout",
     "output_type": "stream",
     "text": [
      "14\n"
     ]
    }
   ],
   "source": [
    "num_sum = num_int + num_str_convert_to_int\n",
    "\n",
    "print(num_sum)"
   ]
  },
  {
   "cell_type": "code",
   "execution_count": 7,
   "id": "b099a7d0-75d4-4e2f-8388-580734b1c94f",
   "metadata": {},
   "outputs": [
    {
     "data": {
      "text/plain": [
       "list"
      ]
     },
     "execution_count": 7,
     "metadata": {},
     "output_type": "execute_result"
    }
   ],
   "source": [
    "#list to tuple\n",
    "\n",
    "list_type = [1, 2, 3]\n",
    "type (list_type)"
   ]
  },
  {
   "cell_type": "code",
   "execution_count": 8,
   "id": "a49630ed-9a43-4613-a968-5c90ab384780",
   "metadata": {},
   "outputs": [
    {
     "data": {
      "text/plain": [
       "(1, 2, 3)"
      ]
     },
     "execution_count": 8,
     "metadata": {},
     "output_type": "execute_result"
    }
   ],
   "source": [
    "tuple(list_type)"
   ]
  },
  {
   "cell_type": "code",
   "execution_count": 9,
   "id": "1810c8f8-ea93-467f-afab-e9073a46be33",
   "metadata": {},
   "outputs": [
    {
     "data": {
      "text/plain": [
       "tuple"
      ]
     },
     "execution_count": 9,
     "metadata": {},
     "output_type": "execute_result"
    }
   ],
   "source": [
    "type(tuple(list_type))"
   ]
  },
  {
   "cell_type": "code",
   "execution_count": 10,
   "id": "79d295d4-e642-466b-b2e1-847ac79d23b6",
   "metadata": {},
   "outputs": [
    {
     "data": {
      "text/plain": [
       "{1, 2, 3, 4}"
      ]
     },
     "execution_count": 10,
     "metadata": {},
     "output_type": "execute_result"
    }
   ],
   "source": [
    "list_type = [1, 2, 3, 2,1,4]\n",
    "\n",
    "set(list_type)"
   ]
  },
  {
   "cell_type": "code",
   "execution_count": 11,
   "id": "273c2dd4-b5b1-4fe9-91b3-dd1327917494",
   "metadata": {},
   "outputs": [
    {
     "data": {
      "text/plain": [
       "set"
      ]
     },
     "execution_count": 11,
     "metadata": {},
     "output_type": "execute_result"
    }
   ],
   "source": [
    "type(set(list_type))"
   ]
  },
  {
   "cell_type": "code",
   "execution_count": 14,
   "id": "4abe0027-5833-4bb5-9dbd-7d373af554c9",
   "metadata": {},
   "outputs": [
    {
     "data": {
      "text/plain": [
       "dict"
      ]
     },
     "execution_count": 14,
     "metadata": {},
     "output_type": "execute_result"
    }
   ],
   "source": [
    "#dictionary\n",
    "dict_type = {'name':'Kine', 'age':'so old', 'hair':'want to be more'}\n",
    "type (dict_type)"
   ]
  },
  {
   "cell_type": "code",
   "execution_count": 15,
   "id": "0469711f-1b7a-4e37-a042-fde046280799",
   "metadata": {},
   "outputs": [
    {
     "data": {
      "text/plain": [
       "dict_items([('name', 'Kine'), ('age', 'so old'), ('hair', 'want to be more')])"
      ]
     },
     "execution_count": 15,
     "metadata": {},
     "output_type": "execute_result"
    }
   ],
   "source": [
    "dict_type.items()"
   ]
  },
  {
   "cell_type": "code",
   "execution_count": 16,
   "id": "b848dc56-8f26-4f43-a470-f53f8c7cd308",
   "metadata": {},
   "outputs": [
    {
     "data": {
      "text/plain": [
       "dict_values(['Kine', 'so old', 'want to be more'])"
      ]
     },
     "execution_count": 16,
     "metadata": {},
     "output_type": "execute_result"
    }
   ],
   "source": [
    "dict_type.values()"
   ]
  },
  {
   "cell_type": "code",
   "execution_count": 17,
   "id": "ae5b456e-2551-4975-9df4-aa770e07bf9f",
   "metadata": {},
   "outputs": [
    {
     "data": {
      "text/plain": [
       "dict_keys(['name', 'age', 'hair'])"
      ]
     },
     "execution_count": 17,
     "metadata": {},
     "output_type": "execute_result"
    }
   ],
   "source": [
    "dict_type.keys()"
   ]
  },
  {
   "cell_type": "code",
   "execution_count": 18,
   "id": "48a324a1-51ec-40e1-9fa5-f8732fa883c1",
   "metadata": {},
   "outputs": [
    {
     "data": {
      "text/plain": [
       "['name', 'age', 'hair']"
      ]
     },
     "execution_count": 18,
     "metadata": {},
     "output_type": "execute_result"
    }
   ],
   "source": [
    "list(dict_type)"
   ]
  },
  {
   "cell_type": "code",
   "execution_count": 20,
   "id": "d4ac1024-c980-460e-9421-d46e297d673e",
   "metadata": {},
   "outputs": [
    {
     "data": {
      "text/plain": [
       "list"
      ]
     },
     "execution_count": 20,
     "metadata": {},
     "output_type": "execute_result"
    }
   ],
   "source": [
    "type(list(dict_type))"
   ]
  },
  {
   "cell_type": "code",
   "execution_count": 22,
   "id": "340068e0-74fa-41e8-b55e-f0697e65de64",
   "metadata": {},
   "outputs": [
    {
     "data": {
      "text/plain": [
       "['I',\n",
       " ' ',\n",
       " 'w',\n",
       " 'a',\n",
       " 'n',\n",
       " 't',\n",
       " ' ',\n",
       " 't',\n",
       " 'o',\n",
       " ' ',\n",
       " 's',\n",
       " 't',\n",
       " 'o',\n",
       " 'p',\n",
       " ' ',\n",
       " 'b',\n",
       " 'e',\n",
       " 'i',\n",
       " 'n',\n",
       " 'g',\n",
       " ' ',\n",
       " 'a',\n",
       " ' ',\n",
       " 's',\n",
       " 'c',\n",
       " 'a',\n",
       " 'r',\n",
       " 'e',\n",
       " 'd',\n",
       " 'y',\n",
       " ' ',\n",
       " 'c',\n",
       " 'a',\n",
       " 't']"
      ]
     },
     "execution_count": 22,
     "metadata": {},
     "output_type": "execute_result"
    }
   ],
   "source": [
    "long_str = 'I want to stop being a scaredy cat'\n",
    "\n",
    "list(long_str)"
   ]
  },
  {
   "cell_type": "code",
   "execution_count": 23,
   "id": "fd71b50d-b50d-441a-a796-719e309cef89",
   "metadata": {},
   "outputs": [
    {
     "data": {
      "text/plain": [
       "{' ',\n",
       " 'I',\n",
       " 'a',\n",
       " 'b',\n",
       " 'c',\n",
       " 'd',\n",
       " 'e',\n",
       " 'g',\n",
       " 'i',\n",
       " 'n',\n",
       " 'o',\n",
       " 'p',\n",
       " 'r',\n",
       " 's',\n",
       " 't',\n",
       " 'w',\n",
       " 'y'}"
      ]
     },
     "execution_count": 23,
     "metadata": {},
     "output_type": "execute_result"
    }
   ],
   "source": [
    "set(long_str)"
   ]
  }
 ],
 "metadata": {
  "kernelspec": {
   "display_name": "Python [conda env:base] *",
   "language": "python",
   "name": "conda-base-py"
  },
  "language_info": {
   "codemirror_mode": {
    "name": "ipython",
    "version": 3
   },
   "file_extension": ".py",
   "mimetype": "text/x-python",
   "name": "python",
   "nbconvert_exporter": "python",
   "pygments_lexer": "ipython3",
   "version": "3.13.5"
  }
 },
 "nbformat": 4,
 "nbformat_minor": 5
}
